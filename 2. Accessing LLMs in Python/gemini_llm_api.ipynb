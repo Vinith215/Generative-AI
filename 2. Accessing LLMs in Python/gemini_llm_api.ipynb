{
  "cells": [
    {
      "cell_type": "markdown",
      "metadata": {
        "id": "cqWNSb8ItkUK"
      },
      "source": [
        "**3.2. Accessing Gemini LLM via API in Python**"
      ]
    },
    {
      "cell_type": "code",
      "execution_count": null,
      "metadata": {
        "id": "0tCI4I2FvVVZ"
      },
      "outputs": [],
      "source": [
        "!pip install -q -U google-genai"
      ]
    },
    {
      "cell_type": "code",
      "execution_count": null,
      "metadata": {
        "id": "m3KCQ8weweM1"
      },
      "outputs": [],
      "source": [
        "import os"
      ]
    },
    {
      "cell_type": "code",
      "execution_count": null,
      "metadata": {
        "id": "3vZG7oqXwhiA"
      },
      "outputs": [],
      "source": [
        "os.environ[\"GEMINI_API_KEY\"] = \"your_gemini_api_key\""
      ]
    },
    {
      "cell_type": "code",
      "execution_count": null,
      "metadata": {
        "colab": {
          "base_uri": "https://localhost:8080/"
        },
        "id": "IiLcvapEw3L9",
        "outputId": "efe10721-4153-4414-8c0c-786aa5478fdc"
      },
      "outputs": [
        {
          "name": "stdout",
          "output_type": "stream",
          "text": [
            "AI learns patterns from data to make intelligent decisions or perform tasks.\n"
          ]
        }
      ],
      "source": [
        "from google import genai\n",
        "\n",
        "client = genai.Client()\n",
        "\n",
        "response = client.models.generate_content(\n",
        "    model=\"gemini-2.5-flash\",\n",
        "    contents=\"Explain how AI works in a few words\"\n",
        ")\n",
        "\n",
        "print(response.text)"
      ]
    },
    {
      "cell_type": "code",
      "execution_count": null,
      "metadata": {
        "colab": {
          "base_uri": "https://localhost:8080/"
        },
        "id": "m6CIGWjIxUg5",
        "outputId": "c37bbab9-c127-494a-f574-3841ede4ed08"
      },
      "outputs": [
        {
          "name": "stdout",
          "output_type": "stream",
          "text": [
            "That's wonderful! Dogs bring so much joy and love to a home.\n",
            "\n",
            "What kind of dogs are they? Do they have names? I'd love to hear more about them!\n",
            "--------------------------------------------------\n",
            "Assuming your dogs are typical four-legged canines, and you don't have any other pets or people walking on all fours:\n",
            "\n",
            "Each dog has 4 paws.\n",
            "You have 2 dogs.\n",
            "\n",
            "So, 2 dogs * 4 paws/dog = **8 paws** in your house!\n"
          ]
        }
      ],
      "source": [
        "# multi-turn conversations (chat)\n",
        "\n",
        "from google import genai\n",
        "\n",
        "client = genai.Client()\n",
        "\n",
        "chat = client.chats.create(model=\"gemini-2.5-flash\")\n",
        "\n",
        "response = chat.send_message(\"I have 2 dogs in my house\")\n",
        "print(response.text)\n",
        "\n",
        "print(\"-\"*50)\n",
        "\n",
        "response = chat.send_message(\"How many paws are in my house\")\n",
        "print(response.text)"
      ]
    },
    {
      "cell_type": "code",
      "execution_count": null,
      "metadata": {
        "id": "o6axb19kyORY"
      },
      "outputs": [],
      "source": []
    }
  ],
  "metadata": {
    "colab": {
      "provenance": []
    },
    "kernelspec": {
      "display_name": "Python 3 (ipykernel)",
      "language": "python",
      "name": "python3"
    },
    "language_info": {
      "codemirror_mode": {
        "name": "ipython",
        "version": 3
      },
      "file_extension": ".py",
      "mimetype": "text/x-python",
      "name": "python",
      "nbconvert_exporter": "python",
      "pygments_lexer": "ipython3",
      "version": "3.13.5"
    }
  },
  "nbformat": 4,
  "nbformat_minor": 0
}