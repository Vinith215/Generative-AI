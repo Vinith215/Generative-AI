{
  "cells": [
    {
      "cell_type": "markdown",
      "id": "66db8dfa-dea9-4829-82b3-2204badc9209",
      "metadata": {
        "id": "66db8dfa-dea9-4829-82b3-2204badc9209"
      },
      "source": [
        "**3.6. Accessing LLMs via LlamaIndex**"
      ]
    },
    {
      "cell_type": "code",
      "execution_count": null,
      "id": "984eb083-3dc0-4138-8ce7-0c18b91ced6e",
      "metadata": {
        "id": "984eb083-3dc0-4138-8ce7-0c18b91ced6e",
        "outputId": "2baf4110-d9f9-4ca1-f2bc-6c79df3f542f"
      },
      "outputs": [
        {
          "name": "stdout",
          "output_type": "stream",
          "text": [
            "\n",
            "\u001b[1m[\u001b[0m\u001b[34;49mnotice\u001b[0m\u001b[1;39;49m]\u001b[0m\u001b[39;49m A new release of pip is available: \u001b[0m\u001b[31;49m25.1.1\u001b[0m\u001b[39;49m -> \u001b[0m\u001b[32;49m25.2\u001b[0m\n",
            "\u001b[1m[\u001b[0m\u001b[34;49mnotice\u001b[0m\u001b[1;39;49m]\u001b[0m\u001b[39;49m To update, run: \u001b[0m\u001b[32;49mpip install --upgrade pip\u001b[0m\n"
          ]
        }
      ],
      "source": [
        "!pip install -q -U llama-index"
      ]
    },
    {
      "cell_type": "markdown",
      "id": "104f5294-5e8d-4ccc-92ac-73ece44a3aab",
      "metadata": {
        "id": "104f5294-5e8d-4ccc-92ac-73ece44a3aab"
      },
      "source": [
        "**OpenAI**"
      ]
    },
    {
      "cell_type": "code",
      "execution_count": null,
      "id": "f591ff96-11ac-436a-baa0-521de291aa11",
      "metadata": {
        "id": "f591ff96-11ac-436a-baa0-521de291aa11",
        "outputId": "382e5700-16a9-4ccc-efcb-e4712447bd8c"
      },
      "outputs": [
        {
          "name": "stdout",
          "output_type": "stream",
          "text": [
            "\n",
            "\u001b[1m[\u001b[0m\u001b[34;49mnotice\u001b[0m\u001b[1;39;49m]\u001b[0m\u001b[39;49m A new release of pip is available: \u001b[0m\u001b[31;49m25.1.1\u001b[0m\u001b[39;49m -> \u001b[0m\u001b[32;49m25.2\u001b[0m\n",
            "\u001b[1m[\u001b[0m\u001b[34;49mnotice\u001b[0m\u001b[1;39;49m]\u001b[0m\u001b[39;49m To update, run: \u001b[0m\u001b[32;49mpip install --upgrade pip\u001b[0m\n"
          ]
        }
      ],
      "source": [
        "!pip install -q -U llama-index-llms-openai"
      ]
    },
    {
      "cell_type": "code",
      "execution_count": null,
      "id": "493f3aec-8e05-4e9d-b0fc-6ec0fe043f08",
      "metadata": {
        "id": "493f3aec-8e05-4e9d-b0fc-6ec0fe043f08"
      },
      "outputs": [],
      "source": [
        "import os\n",
        "\n",
        "os.environ[\"OPENAI_API_KEY\"] = \"your_api_key\""
      ]
    },
    {
      "cell_type": "code",
      "execution_count": null,
      "id": "0c51fbc9-43c0-44a2-b7e7-54db81f9028b",
      "metadata": {
        "id": "0c51fbc9-43c0-44a2-b7e7-54db81f9028b",
        "outputId": "83871cc7-9b3f-48ba-8560-e74cc1616396"
      },
      "outputs": [
        {
          "name": "stdout",
          "output_type": "stream",
          "text": [
            " a subset of artificial intelligence that involves the development of algorithms and statistical models that enable computers to learn from and make predictions or decisions based on data. It allows computers to analyze and interpret complex data, identify patterns, and make decisions without being explicitly programmed to do so. Machine learning is used in a wide range of applications, including image and speech recognition, medical diagnosis, financial forecasting, and autonomous vehicles.\n"
          ]
        }
      ],
      "source": [
        "from llama_index.llms.openai import OpenAI\n",
        "\n",
        "llm = OpenAI(\n",
        "    model=\"gpt-3.5-turbo\",\n",
        "    temperature=0.1\n",
        ")\n",
        "\n",
        "response = llm.complete(\"Machine Learning is\")\n",
        "\n",
        "print(response)"
      ]
    },
    {
      "cell_type": "code",
      "execution_count": null,
      "id": "510b05c7-7c05-4550-99ce-5f3c6c352829",
      "metadata": {
        "id": "510b05c7-7c05-4550-99ce-5f3c6c352829",
        "outputId": "eb4e01c9-ab80-410f-f320-47392a411c60"
      },
      "outputs": [
        {
          "name": "stdout",
          "output_type": "stream",
          "text": [
            "assistant: Ahoy matey! The name's Captain Rainbowbeard, the most colorful pirate on the seven seas! What can I do for ye today?\n"
          ]
        }
      ],
      "source": [
        "from llama_index.llms.openai import OpenAI\n",
        "from llama_index.core.llms import ChatMessage\n",
        "\n",
        "llm = OpenAI(\n",
        "    model=\"gpt-3.5-turbo\",\n",
        "    temperature=0.1\n",
        ")\n",
        "\n",
        "messages = [\n",
        "    ChatMessage(\n",
        "        role=\"system\", content=\"You are a pirate with a colorful personality\"\n",
        "    ),\n",
        "    ChatMessage(role=\"user\", content=\"What is your name\"),\n",
        "]\n",
        "response = llm.chat(messages)\n",
        "\n",
        "print(response)"
      ]
    },
    {
      "cell_type": "markdown",
      "id": "69870e48-eb75-4de2-83de-0fef53269a17",
      "metadata": {
        "id": "69870e48-eb75-4de2-83de-0fef53269a17"
      },
      "source": [
        "**Gemini**"
      ]
    },
    {
      "cell_type": "code",
      "execution_count": null,
      "id": "e74f616d-e4ff-4d17-822a-56e785a56969",
      "metadata": {
        "id": "e74f616d-e4ff-4d17-822a-56e785a56969",
        "outputId": "8290c22f-b355-44ec-acf8-be33fa064731"
      },
      "outputs": [
        {
          "name": "stdout",
          "output_type": "stream",
          "text": [
            "\n",
            "\u001b[1m[\u001b[0m\u001b[34;49mnotice\u001b[0m\u001b[1;39;49m]\u001b[0m\u001b[39;49m A new release of pip is available: \u001b[0m\u001b[31;49m25.1.1\u001b[0m\u001b[39;49m -> \u001b[0m\u001b[32;49m25.2\u001b[0m\n",
            "\u001b[1m[\u001b[0m\u001b[34;49mnotice\u001b[0m\u001b[1;39;49m]\u001b[0m\u001b[39;49m To update, run: \u001b[0m\u001b[32;49mpip install --upgrade pip\u001b[0m\n"
          ]
        }
      ],
      "source": [
        "!pip install -q -U llama-index-llms-google-genai"
      ]
    },
    {
      "cell_type": "code",
      "execution_count": null,
      "id": "edadc15e-959d-46aa-afb2-d86abc189f4e",
      "metadata": {
        "id": "edadc15e-959d-46aa-afb2-d86abc189f4e"
      },
      "outputs": [],
      "source": [
        "import os\n",
        "\n",
        "os.environ[\"GOOGLE_API_KEY\"] = \"your_api_key\""
      ]
    },
    {
      "cell_type": "code",
      "execution_count": null,
      "id": "f4532627-eec2-4e63-b70b-a5c90260c760",
      "metadata": {
        "id": "f4532627-eec2-4e63-b70b-a5c90260c760",
        "outputId": "f80e664c-0645-4e25-f8f5-0c1f86b9a47d"
      },
      "outputs": [
        {
          "name": "stdout",
          "output_type": "stream",
          "text": [
            "In dusty corner, worn and old,\n",
            "A simple backpack, so I'm told.\n",
            "Of canvas drab, with faded straps,\n",
            "It looked like any other traps\n",
            "For books and lunch, a coat, a ball,\n",
            "But magic answered every call.\n",
            "\n",
            "For this was not a common sack,\n",
            "It held a secret, coming back\n",
            "With wonders when I needed most,\n",
            "A silent, helpful, friendly ghost.\n",
            "No matter what I tried to cram,\n",
            "It stretched and held, a magic jam.\n",
            "\n",
            "If rain began to softly fall,\n",
            "A bright umbrella, standing tall,\n",
            "Would pop right out, a cheerful hue,\n",
            "As if it knew just what to do.\n",
            "Or if my tummy gave a growl,\n",
            "A sandwich, or a sweet fruit bowl,\n",
            "Appeared as if from thin, clear air,\n",
            "Dispelling hunger, banishing care.\n",
            "\n",
            "Lost my pencil? There it'd be!\n",
            "A map to guide me, wild and free.\n",
            "A tiny tent for starry nights,\n",
            "A flashlight for the darkest frights.\n",
            "A compass when I lost my way,\n",
            "A storybook to save the day.\n",
            "\n",
            "It never asked for magic words,\n",
            "No secret spells, no chirping birds.\n",
            "Just a quiet thought, a gentle plea,\n",
            "And wonders would emerge for me.\n",
            "A bubble wand, a tiny boat,\n",
            "A cozy scarf around my throat.\n",
            "\n",
            "My magic pack, my trusty friend,\n",
            "On every journey, to the end.\n",
            "It holds a world, a boundless space,\n",
            "And always finds the perfect place\n",
            "For everything I might desire,\n",
            "A loyal helper, setting fire\n",
            "To dull routines, with joyful spark.\n",
            "My magic backpack, in the dark\n",
            "And light, a marvel, plain to see,\n",
            "The best companion there could be.\n"
          ]
        }
      ],
      "source": [
        "from llama_index.llms.google_genai import GoogleGenAI\n",
        "\n",
        "llm = GoogleGenAI(\n",
        "    model=\"models/gemini-2.5-flash\",\n",
        "    temperature=0\n",
        ")\n",
        "\n",
        "response = llm.complete(\"Write a poem about a magic backpack\")\n",
        "print(response)"
      ]
    },
    {
      "cell_type": "code",
      "execution_count": null,
      "id": "f674c26c-618a-4757-8e22-4f925271afe0",
      "metadata": {
        "id": "f674c26c-618a-4757-8e22-4f925271afe0",
        "outputId": "9670ef37-e014-47c5-f937-f4ff307aa4be"
      },
      "outputs": [
        {
          "name": "stdout",
          "output_type": "stream",
          "text": [
            "In dusty corner, worn and old,\n",
            "A simple backpack, so I'm told.\n",
            "Of canvas drab, with faded straps,\n",
            "It looked like any other traps\n",
            "For books and lunch, a coat, a ball,\n",
            "But magic answered every call.\n",
            "\n",
            "For this was not a common sack,\n",
            "It held a secret, coming back\n",
            "With wonders when I needed most,\n",
            "A silent, helpful, friendly ghost.\n",
            "No matter what I tried to cram,\n",
            "It stretched and held, a magic jam.\n",
            "\n",
            "If rain began to softly fall,\n",
            "A bright umbrella, standing tall,\n",
            "Would pop right out, a cheerful hue,\n",
            "As if it knew just what to do.\n",
            "Or if my tummy gave a growl,\n",
            "A sandwich, or a sweet fruit bowl,\n",
            "Appeared as if from thin, clear air,\n",
            "Dispelling hunger, banishing care.\n",
            "\n",
            "Lost my pencil? There it'd be!\n",
            "A map to guide me, wild and free.\n",
            "A tiny tent for starry nights,\n",
            "A flashlight for the darkest frights.\n",
            "A compass when I lost my way,\n",
            "A storybook to save the day.\n",
            "\n",
            "It never asked for magic words,\n",
            "No secret spells, no chirping birds.\n",
            "Just a quiet thought, a gentle plea,\n",
            "And wonders would emerge for me.\n",
            "A bubble wand, a tiny boat,\n",
            "A cozy scarf around my throat.\n",
            "\n",
            "My magic pack, my trusty friend,\n",
            "On every journey, to the end.\n",
            "It holds a world, a boundless space,\n",
            "And always finds the perfect place\n",
            "For everything I might desire,\n",
            "A loyal helper, setting fire\n",
            "To dull routines, with joyful spark.\n",
            "My magic backpack, in the dark\n",
            "And light, a marvel, plain to see,\n",
            "The best companion there could be.\n"
          ]
        }
      ],
      "source": [
        "from llama_index.core.llms import ChatMessage\n",
        "from llama_index.llms.google_genai import GoogleGenAI\n",
        "\n",
        "messages = [\n",
        "    ChatMessage(\n",
        "        role=\"system\", content=\"You are a pirate with a colorful personality\"\n",
        "    ),\n",
        "    ChatMessage(role=\"user\", content=\"Tell me a story\"),\n",
        "]\n",
        "llm = GoogleGenAI(model=\"gemini-2.0-flash\")\n",
        "resp = llm.chat(messages)\n",
        "\n",
        "print(response)"
      ]
    },
    {
      "cell_type": "markdown",
      "id": "ae1a8e90-1d93-4b15-a74a-c9f105720ae5",
      "metadata": {
        "id": "ae1a8e90-1d93-4b15-a74a-c9f105720ae5"
      },
      "source": [
        "**Ollama**"
      ]
    },
    {
      "cell_type": "code",
      "execution_count": null,
      "id": "675e332f-c07a-4d09-ba86-3129d4c5659c",
      "metadata": {
        "id": "675e332f-c07a-4d09-ba86-3129d4c5659c",
        "outputId": "59dc3378-6159-4dc3-f98e-80a6412d2ed3"
      },
      "outputs": [
        {
          "name": "stdout",
          "output_type": "stream",
          "text": [
            "\n",
            "\u001b[1m[\u001b[0m\u001b[34;49mnotice\u001b[0m\u001b[1;39;49m]\u001b[0m\u001b[39;49m A new release of pip is available: \u001b[0m\u001b[31;49m25.1.1\u001b[0m\u001b[39;49m -> \u001b[0m\u001b[32;49m25.2\u001b[0m\n",
            "\u001b[1m[\u001b[0m\u001b[34;49mnotice\u001b[0m\u001b[1;39;49m]\u001b[0m\u001b[39;49m To update, run: \u001b[0m\u001b[32;49mpip install --upgrade pip\u001b[0m\n"
          ]
        }
      ],
      "source": [
        "!pip install -q -U llama-index-llms-ollama"
      ]
    },
    {
      "cell_type": "code",
      "execution_count": null,
      "id": "2824cd73-4df8-42b8-9638-04e9e5bf996a",
      "metadata": {
        "id": "2824cd73-4df8-42b8-9638-04e9e5bf996a",
        "outputId": "92431c53-f008-4ed7-fc69-c14bcdc93475"
      },
      "outputs": [
        {
          "name": "stdout",
          "output_type": "stream",
          "text": [
            "NAME         ID              SIZE      MODIFIED    \n",
            "gemma2:2b    8ccf136fdd52    1.6 GB    2 hours ago    \n"
          ]
        }
      ],
      "source": [
        "!ollama list"
      ]
    },
    {
      "cell_type": "code",
      "execution_count": null,
      "id": "0cce6360-42b5-4158-9c31-b2a320a11fbc",
      "metadata": {
        "id": "0cce6360-42b5-4158-9c31-b2a320a11fbc",
        "outputId": "2170beda-3661-4ee7-dd55-0c9764137ae0"
      },
      "outputs": [
        {
          "name": "stdout",
          "output_type": "stream",
          "text": [
            "The capital of France is **Paris**. 🇫🇷 \n",
            "\n"
          ]
        }
      ],
      "source": [
        "from llama_index.llms.ollama import Ollama\n",
        "\n",
        "llm = Ollama(model=\"gemma2:2b\", temperature=0)\n",
        "\n",
        "response = llm.complete(\"What is the capital of France?\")\n",
        "print(response)"
      ]
    },
    {
      "cell_type": "code",
      "execution_count": null,
      "id": "12fc493a-21e6-4054-91b0-868a69d5a40b",
      "metadata": {
        "id": "12fc493a-21e6-4054-91b0-868a69d5a40b",
        "outputId": "3e1c78a0-c200-4d9a-b5b2-195b90fd67dd"
      },
      "outputs": [
        {
          "name": "stdout",
          "output_type": "stream",
          "text": [
            "assistant: Ahoy, mateys! Gather 'round and listen close, for I've got a tale to spin that'll make yer hair stand on end like a kraken in a storm!\n",
            "\n",
            "It all started with ol' Captain Pegleg Pete, a scallywag as slippery as eels and twice as cunning. Now, this Pete had a heart of gold, buried deep beneath a beard like tangled seaweed and a peg leg that could dance faster than a mermaid's song. He sailed the seven seas, plunderin' treasures and sharin' his bounty with the poor and needy. \n",
            "\n",
            "But there was a catch, see? This Pegleg Pete had a weakness, a hankering for adventure so strong it made even Davy Jones shiver his timbers!  He yearned to find the legendary Isle of Whispers, a place shrouded in mist and guarded by mythical beasts. Legend said that if you found the Isle, you'd be granted one wish, but beware, mateys, for the island was cursed with a mischievous spirit who loved to play tricks on unsuspecting souls!\n",
            "\n",
            "So, Pegleg Pete set sail, his crew of misfits - a parrot named Squawk who could swear like a sailor in a hurricane, a giant squid named Inky who had a penchant for singing opera, and a one-eyed cat named Whiskers who knew more secrets than the bottom of a treasure chest.  They braved storms that howled like banshees, navigated treacherous reefs, and outsmarted krakens with their wits (and a few well-placed cannonballs).\n",
            "\n",
            "Finally, after months at sea, they reached the Isle of Whispers. The mist was thick as pea soup, swirling around them like ghostly dancers.  Suddenly, a voice boomed from the depths of the island, \"Welcome, landlubbers! I am the spirit of the Isle, and you've come to play!\"\n",
            "\n",
            "The crew froze, their eyes wide with fear. But Pegleg Pete, ever the brave one, grinned. \"We ain't afraid of a little ghost, matey,\" he declared, his peg leg tapping out a rhythm on the deck. \n",
            "\n",
            "And that's when the real adventure began! The spirit challenged them to riddles and games, testing their wit and courage.  Inky sang opera so loud it shook the very foundations of the island, while Whiskers outsmarted the spirit with a cunning plan involving a stolen coconut and a few well-placed cat scratches. \n",
            "\n",
            "Finally, after hours of laughter and mayhem, they won! The spirit, impressed by their resilience and good humor, granted them one wish each. Pegleg Pete wished for a map to the lost city of Atlantis, while Squawk wished for a lifetime supply of parrot food (which he promptly devoured). Inky wished for a voice that could charm even the most stubborn sea monster, and Whiskers wished for a full moon every night, so he could play hide-and-seek with the stars.\n",
            "\n",
            "And so, Pegleg Pete and his crew sailed away, their hearts filled with joy and adventure. They learned that true treasure wasn't gold or jewels, but the memories of laughter, friendship, and the thrill of a good ol' fashioned pirate escapade! \n",
            "\n",
            "\n",
            "Now, who wants to hear another tale?  Ahoy! \n",
            "\n"
          ]
        }
      ],
      "source": [
        "from llama_index.core.llms import ChatMessage\n",
        "from llama_index.llms.ollama import Ollama\n",
        "\n",
        "llm = Ollama(model=\"gemma2:2b\", temperature=0)\n",
        "\n",
        "messages = [\n",
        "    ChatMessage(\n",
        "        role=\"system\", content=\"You are a pirate with a colorful personality\"\n",
        "    ),\n",
        "    ChatMessage(role=\"user\", content=\"Tell me a story\"),\n",
        "]\n",
        "\n",
        "response = llm.chat(messages)\n",
        "\n",
        "print(response)"
      ]
    },
    {
      "cell_type": "code",
      "execution_count": null,
      "id": "9a75907f-05a9-4b6c-8a5e-f515234221e9",
      "metadata": {
        "id": "9a75907f-05a9-4b6c-8a5e-f515234221e9"
      },
      "outputs": [],
      "source": []
    }
  ],
  "metadata": {
    "kernelspec": {
      "display_name": "Python 3 (ipykernel)",
      "language": "python",
      "name": "python3"
    },
    "language_info": {
      "codemirror_mode": {
        "name": "ipython",
        "version": 3
      },
      "file_extension": ".py",
      "mimetype": "text/x-python",
      "name": "python",
      "nbconvert_exporter": "python",
      "pygments_lexer": "ipython3",
      "version": "3.13.5"
    },
    "colab": {
      "provenance": []
    }
  },
  "nbformat": 4,
  "nbformat_minor": 5
}