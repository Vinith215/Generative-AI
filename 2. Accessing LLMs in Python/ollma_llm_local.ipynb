{
  "cells": [
    {
      "cell_type": "markdown",
      "id": "856987b6-2afb-4f6c-af2b-05402689c593",
      "metadata": {
        "id": "856987b6-2afb-4f6c-af2b-05402689c593"
      },
      "source": [
        "**3.4. Accessing Open-Source LLMs via Ollama from Local**"
      ]
    },
    {
      "cell_type": "markdown",
      "id": "ef094e4f-c6d6-4719-851d-22497ed7f50c",
      "metadata": {
        "id": "ef094e4f-c6d6-4719-851d-22497ed7f50c"
      },
      "source": [
        "**NOTE: Install Ollama on your machine**"
      ]
    },
    {
      "cell_type": "code",
      "execution_count": null,
      "id": "90925a40-ef8f-4998-b67a-d5d03e42b949",
      "metadata": {
        "id": "90925a40-ef8f-4998-b67a-d5d03e42b949",
        "outputId": "a5fc0308-d34a-4616-ebf1-cbb6802b0ce1"
      },
      "outputs": [
        {
          "name": "stdout",
          "output_type": "stream",
          "text": [
            "\n",
            "\u001b[1m[\u001b[0m\u001b[34;49mnotice\u001b[0m\u001b[1;39;49m]\u001b[0m\u001b[39;49m A new release of pip is available: \u001b[0m\u001b[31;49m25.1.1\u001b[0m\u001b[39;49m -> \u001b[0m\u001b[32;49m25.2\u001b[0m\n",
            "\u001b[1m[\u001b[0m\u001b[34;49mnotice\u001b[0m\u001b[1;39;49m]\u001b[0m\u001b[39;49m To update, run: \u001b[0m\u001b[32;49mpip install --upgrade pip\u001b[0m\n"
          ]
        }
      ],
      "source": [
        "!pip install -q -U ollama"
      ]
    },
    {
      "cell_type": "code",
      "execution_count": null,
      "id": "33cdcc71-f905-446d-a5ab-57f0c4853ef8",
      "metadata": {
        "id": "33cdcc71-f905-446d-a5ab-57f0c4853ef8",
        "outputId": "80c90ae0-9dee-4756-ff7f-7b27a3e9dd80"
      },
      "outputs": [
        {
          "name": "stdout",
          "output_type": "stream",
          "text": [
            "NAME         ID              SIZE      MODIFIED      \n",
            "gemma2:2b    8ccf136fdd52    1.6 GB    3 minutes ago    \n"
          ]
        }
      ],
      "source": [
        "!ollama list"
      ]
    },
    {
      "cell_type": "code",
      "execution_count": null,
      "id": "9d232adf-884e-4f19-ab5a-57598aac4e05",
      "metadata": {
        "id": "9d232adf-884e-4f19-ab5a-57598aac4e05",
        "outputId": "67ad378c-c1fc-4bbe-c870-079a0cfee524"
      },
      "outputs": [
        {
          "name": "stdout",
          "output_type": "stream",
          "text": [
            "Machine learning (ML) is a subfield of artificial intelligence (AI) that focuses on **creating computer programs that can learn from data without being explicitly programmed.**  \n",
            "\n",
            "Here's a breakdown:\n",
            "\n",
            "**Key concepts:**\n",
            "\n",
            "* **Data-Driven:** ML algorithms rely heavily on data for training and improvement. The more data, the better they perform.\n",
            "* **Learning from Experience:** Instead of following strict instructions, ML models \"learn\" by observing patterns in data, making predictions, and adjusting their internal parameters accordingly. \n",
            "* **Goal: Predictive Accuracy:** The ultimate goal of ML is to build models that can accurately predict future outcomes based on previously observed data.\n",
            "\n",
            "**How it works:**\n",
            "\n",
            "1. **Data Collection:** Gathering relevant data is essential for training a model. This could involve images, text, sensor readings, or any other type of information related to the task at hand.\n",
            "2. **Feature Engineering:** Identifying and extracting meaningful features from the data are crucial for helping the ML model learn effectively. \n",
            "3. **Model Selection:** Choosing the right type of algorithm (e.g., regression, classification, clustering) depends on the specific problem being addressed.\n",
            "4. **Training:** Feeding the prepared data to the chosen model and adjusting its internal parameters until it performs well enough for prediction. This is called training.\n",
            "5. **Evaluation:** Assessing the model's performance using unseen data to measure how accurate its predictions are. \n",
            "6. **Deployment & Refinement:** Once the model is validated, deploying it in real-world applications while continuously monitoring and refining it based on feedback and further data.\n",
            "\n",
            "**Types of Machine Learning:**\n",
            "\n",
            "* **Supervised learning:** Using labeled data (e.g., images with \"cat\" or \"dog\" labels) to train models that can categorize new data into those groups. \n",
            "* **Unsupervised learning:** Finding hidden patterns in unlabeled data (e.g., identifying customer segments based on purchasing behavior).\n",
            "* **Reinforcement learning:** Training agents using rewards and penalties to learn optimal actions over time (e.g., training an AI robot to perform tasks like navigating a maze).\n",
            "\n",
            "**Applications of Machine Learning:**\n",
            "\n",
            "ML has become ubiquitous in various fields, including:\n",
            "\n",
            "* **Healthcare:** Diagnosing diseases, predicting patient outcomes.\n",
            "* **Finance:** Detecting fraud, personalizing financial recommendations.\n",
            "* **Transportation:** Optimizing routes, self-driving cars.\n",
            "* **Ecommerce:** Recommending products based on user behavior, targeted advertising. \n",
            "* **Entertainment:** Personalized music and movie suggestions, content recommendation.\n",
            "\n",
            "**In a nutshell,** machine learning allows computers to \"learn\" from data like humans, making them increasingly capable of solving complex problems and improving decision-making across various domains.\n",
            "\n",
            "\n",
            "Let me know if you want to learn more about specific aspects or applications of Machine Learning! \n",
            "\n"
          ]
        }
      ],
      "source": [
        "import ollama\n",
        "\n",
        "response = ollama.chat(\n",
        "    model=\"gemma2:2b\",\n",
        "    messages=[\n",
        "        {\"role\": \"system\", \"content\": \"You are a helpful assistant\"},\n",
        "        {\"role\": \"user\", \"content\": \"What is Machine Learning?\"}\n",
        "    ]\n",
        ")\n",
        "\n",
        "print(response[\"message\"][\"content\"])"
      ]
    },
    {
      "cell_type": "code",
      "execution_count": null,
      "id": "43e921a0-7f92-43d2-8a2b-1b10875dc9ec",
      "metadata": {
        "id": "43e921a0-7f92-43d2-8a2b-1b10875dc9ec",
        "outputId": "bfb3bfe8-18d0-4cbe-d53e-8050ed950a75"
      },
      "outputs": [
        {
          "name": "stdout",
          "output_type": "stream",
          "text": [
            "Artificial intelligence, or AI, is a broad field of computer science focused on creating **intelligent systems** that can perform tasks typically requiring human intelligence. \n",
            "\n",
            "Here's a breakdown:\n",
            "\n",
            "**Think of it this way:**\n",
            "\n",
            "* **Humans have \"intelligence\"**: We learn, adapt, solve problems creatively, understand complex situations, and interact with the world around us.\n",
            "* **AI aims to mimic human intelligence**: It involves training computers to recognize patterns, make decisions based on available information, and perform tasks that would usually require human thinking.\n",
            "\n",
            "**Key characteristics of AI:**\n",
            "\n",
            "* **Learning & Adaptation:**  AI systems can learn from data (like images, text, or sensor readings) to improve their performance over time.\n",
            "* **Problem Solving:** They can analyze complex problems and find solutions that may not be obvious to humans.\n",
            "* **Decision Making:** AI can make decisions based on available information and potentially predict future outcomes.\n",
            "* **Natural Language Processing (NLP):** Understanding and processing human language is a crucial part of AI, allowing systems like chatbots to interact with us naturally.\n",
            "\n",
            "**Here are some examples of AI in action:**\n",
            "\n",
            "* **Virtual Assistants**: Siri, Alexa, and Google Assistant understand our commands and help us with tasks like setting reminders or making calls.\n",
            "* **Self-Driving Cars:**  AI helps cars \"see\" their surroundings and navigate traffic autonomously.\n",
            "* **Medical Diagnosis**: AI can analyze medical images to assist doctors in identifying diseases earlier and more accurately.\n",
            "* **Spam Filters**: These systems use complex algorithms to sort emails into folders, effectively filtering out unwanted content.\n",
            "\n",
            "**Types of AI:**\n",
            "\n",
            "AI is a diverse field with various techniques and approaches, such as:\n",
            "\n",
            "* **Machine Learning (ML):**  Algorithms learn from data without being explicitly programmed. This involves training models on large datasets to recognize patterns and make predictions.\n",
            "* **Deep Learning (DL):** A subfield of ML that uses artificial neural networks with multiple layers to process complex information. \n",
            "* **Natural Language Processing (NLP):** Enables computers to understand, interpret, and generate human language.\n",
            "\n",
            "**It's important to note:**  AI is still developing, and while it offers incredible potential, it also has limitations. It can be biased based on the data it learns from, and it needs careful design and oversight to ensure ethical use.\n",
            "\n",
            "\n",
            "Let me know if you want to explore specific aspects of AI in more detail! \n"
          ]
        }
      ],
      "source": [
        "import ollama\n",
        "\n",
        "stream = ollama.chat(\n",
        "    model=\"gemma2:2b\",\n",
        "    messages=[\n",
        "        {\"role\": \"system\", \"content\": \"You are a helpful assistant\"},\n",
        "        {\"role\": \"user\", \"content\": \"What is Artificial Intelligence?\"}\n",
        "    ],\n",
        "    stream=True\n",
        ")\n",
        "\n",
        "for chunk in stream:\n",
        "    print(chunk[\"message\"][\"content\"], end=\"\", flush=True)"
      ]
    },
    {
      "cell_type": "code",
      "execution_count": null,
      "id": "03466ec3-d954-4be5-9cf0-bd2cdfefae44",
      "metadata": {
        "id": "03466ec3-d954-4be5-9cf0-bd2cdfefae44"
      },
      "outputs": [],
      "source": []
    }
  ],
  "metadata": {
    "kernelspec": {
      "display_name": "Python 3 (ipykernel)",
      "language": "python",
      "name": "python3"
    },
    "language_info": {
      "codemirror_mode": {
        "name": "ipython",
        "version": 3
      },
      "file_extension": ".py",
      "mimetype": "text/x-python",
      "name": "python",
      "nbconvert_exporter": "python",
      "pygments_lexer": "ipython3",
      "version": "3.13.5"
    },
    "colab": {
      "provenance": []
    }
  },
  "nbformat": 4,
  "nbformat_minor": 5
}