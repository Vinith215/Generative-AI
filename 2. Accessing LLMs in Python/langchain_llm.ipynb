{
  "cells": [
    {
      "cell_type": "markdown",
      "id": "e7e1cbf5-821d-4473-9189-f2ccb843cad5",
      "metadata": {
        "id": "e7e1cbf5-821d-4473-9189-f2ccb843cad5"
      },
      "source": [
        "**3.5. Acceessing different LLMs via Langchain**"
      ]
    },
    {
      "cell_type": "code",
      "execution_count": null,
      "id": "f539d93d-5157-49a7-8fc6-2eb108c9e715",
      "metadata": {
        "id": "f539d93d-5157-49a7-8fc6-2eb108c9e715",
        "outputId": "514117dd-f1aa-4242-eaee-8884ee78dd87"
      },
      "outputs": [
        {
          "name": "stdout",
          "output_type": "stream",
          "text": [
            "\n",
            "\u001b[1m[\u001b[0m\u001b[34;49mnotice\u001b[0m\u001b[1;39;49m]\u001b[0m\u001b[39;49m A new release of pip is available: \u001b[0m\u001b[31;49m25.1.1\u001b[0m\u001b[39;49m -> \u001b[0m\u001b[32;49m25.2\u001b[0m\n",
            "\u001b[1m[\u001b[0m\u001b[34;49mnotice\u001b[0m\u001b[1;39;49m]\u001b[0m\u001b[39;49m To update, run: \u001b[0m\u001b[32;49mpip install --upgrade pip\u001b[0m\n"
          ]
        }
      ],
      "source": [
        "!pip install -q -U langchain-community"
      ]
    },
    {
      "cell_type": "markdown",
      "id": "dba542ac-a379-4961-a4c0-5a86b9f3fc99",
      "metadata": {
        "id": "dba542ac-a379-4961-a4c0-5a86b9f3fc99"
      },
      "source": [
        "**OpenAI**"
      ]
    },
    {
      "cell_type": "code",
      "execution_count": null,
      "id": "0537d1e5-81a0-4017-bfb8-77bcc7cc8b32",
      "metadata": {
        "id": "0537d1e5-81a0-4017-bfb8-77bcc7cc8b32",
        "outputId": "744561a1-f940-4dd0-cf16-2de8438a76a8"
      },
      "outputs": [
        {
          "name": "stdout",
          "output_type": "stream",
          "text": [
            "\n",
            "\u001b[1m[\u001b[0m\u001b[34;49mnotice\u001b[0m\u001b[1;39;49m]\u001b[0m\u001b[39;49m A new release of pip is available: \u001b[0m\u001b[31;49m25.1.1\u001b[0m\u001b[39;49m -> \u001b[0m\u001b[32;49m25.2\u001b[0m\n",
            "\u001b[1m[\u001b[0m\u001b[34;49mnotice\u001b[0m\u001b[1;39;49m]\u001b[0m\u001b[39;49m To update, run: \u001b[0m\u001b[32;49mpip install --upgrade pip\u001b[0m\n"
          ]
        }
      ],
      "source": [
        "!pip install -q -U langchain-openai"
      ]
    },
    {
      "cell_type": "code",
      "execution_count": null,
      "id": "fb0eeb6d-a2b9-4b14-813a-7a65dd7e2dee",
      "metadata": {
        "id": "fb0eeb6d-a2b9-4b14-813a-7a65dd7e2dee",
        "outputId": "44003b86-db20-4188-863f-0dfcdfcbf24d"
      },
      "outputs": [
        {
          "name": "stdout",
          "output_type": "stream",
          "text": [
            "Machine learning is a subset of artificial intelligence that involves the development of algorithms and statistical models that enable computers to learn from and make predictions or decisions based on data without being explicitly programmed. In other words, machine learning allows computers to learn and improve from experience without human intervention. It is used in a wide range of applications, such as image and speech recognition, medical diagnosis, financial forecasting, and recommendation systems.\n"
          ]
        }
      ],
      "source": [
        "import os\n",
        "from langchain_openai import ChatOpenAI\n",
        "\n",
        "os.environ[\"OPENAI_API_KEY\"] = \"your_api_key\"\n",
        "\n",
        "llm = ChatOpenAI(\n",
        "    model=\"gpt-3.5-turbo\",\n",
        "    temperature=0,\n",
        ")\n",
        "\n",
        "response = llm.invoke(\"What is Machine Learning\")\n",
        "\n",
        "print(response.content)"
      ]
    },
    {
      "cell_type": "code",
      "execution_count": null,
      "id": "16fb664d-903a-4c9c-94c2-ebac3aeb9afb",
      "metadata": {
        "id": "16fb664d-903a-4c9c-94c2-ebac3aeb9afb"
      },
      "outputs": [],
      "source": [
        "# response"
      ]
    },
    {
      "cell_type": "markdown",
      "id": "5b50834a-0ec3-46fa-b580-1c04050fbd75",
      "metadata": {
        "id": "5b50834a-0ec3-46fa-b580-1c04050fbd75"
      },
      "source": [
        "**Gemini**"
      ]
    },
    {
      "cell_type": "code",
      "execution_count": null,
      "id": "fa423581-ee6b-468d-908d-f8ec21bf47ff",
      "metadata": {
        "id": "fa423581-ee6b-468d-908d-f8ec21bf47ff",
        "outputId": "16dd40f7-0b17-4b80-a11a-8164ab7f09b3"
      },
      "outputs": [
        {
          "name": "stdout",
          "output_type": "stream",
          "text": [
            "\n",
            "\u001b[1m[\u001b[0m\u001b[34;49mnotice\u001b[0m\u001b[1;39;49m]\u001b[0m\u001b[39;49m A new release of pip is available: \u001b[0m\u001b[31;49m25.1.1\u001b[0m\u001b[39;49m -> \u001b[0m\u001b[32;49m25.2\u001b[0m\n",
            "\u001b[1m[\u001b[0m\u001b[34;49mnotice\u001b[0m\u001b[1;39;49m]\u001b[0m\u001b[39;49m To update, run: \u001b[0m\u001b[32;49mpip install --upgrade pip\u001b[0m\n"
          ]
        }
      ],
      "source": [
        "!pip install -q -U langchain-google-genai"
      ]
    },
    {
      "cell_type": "code",
      "execution_count": null,
      "id": "0266aa4c-02ef-4957-b73e-4211ffcb5ad8",
      "metadata": {
        "id": "0266aa4c-02ef-4957-b73e-4211ffcb5ad8",
        "outputId": "b97329c2-e807-4078-9941-77eb9ef5616d"
      },
      "outputs": [
        {
          "name": "stdout",
          "output_type": "stream",
          "text": [
            "**Machine Learning (ML)** is a subfield of Artificial Intelligence (AI) that enables systems to learn from data, identify patterns, and make decisions or predictions with minimal human intervention, rather than being explicitly programmed for every task.\n",
            "\n",
            "Think of it this way:\n",
            "\n",
            "*   **Traditional Programming:** You write specific, step-by-step instructions (rules) for the computer to follow to achieve a task. If the task changes, you rewrite the rules.\n",
            "*   **Machine Learning:** You feed the computer a lot of data and an algorithm. The algorithm then \"learns\" the rules or patterns from that data itself. Once it has learned, it can apply those learned rules to new, unseen data to make predictions or decisions.\n",
            "\n",
            "### Key Concepts of Machine Learning:\n",
            "\n",
            "1.  **Learning from Data:** This is the core principle. ML algorithms are trained on large datasets. The more relevant and diverse the data, the better the model typically performs.\n",
            "2.  **Pattern Recognition:** During training, the algorithms look for relationships, trends, and structures within the data.\n",
            "3.  **Generalization:** The goal is not just to memorize the training data, but to learn underlying patterns that allow the system to make accurate predictions or decisions on *new, unseen data*.\n",
            "4.  **No Explicit Programming:** Instead of a human programmer writing \"if X then Y\" rules for every possible scenario, the machine learns these rules or statistical relationships directly from the data.\n",
            "5.  **Improvement Over Time:** As an ML model is exposed to more data and feedback, its performance can improve.\n",
            "\n",
            "### How it Works (Simplified):\n",
            "\n",
            "1.  **Data Collection:** Gather relevant data (e.g., images, text, numbers).\n",
            "2.  **Data Preparation:** Clean, organize, and format the data for the algorithm.\n",
            "3.  **Choose an Algorithm:** Select an appropriate ML algorithm based on the problem (e.g., linear regression, decision tree, neural network).\n",
            "4.  **Training:** Feed the prepared data to the algorithm. The algorithm adjusts its internal parameters to find patterns and build a \"model.\"\n",
            "5.  **Evaluation:** Test the trained model on new data (that it hasn't seen before) to see how well it performs.\n",
            "6.  **Deployment:** If the model performs well, it can be used to make predictions or decisions in real-world applications.\n",
            "\n",
            "### Main Types of Machine Learning:\n",
            "\n",
            "1.  **Supervised Learning:**\n",
            "    *   **Concept:** The algorithm learns from \"labeled\" data, meaning each input example has a corresponding correct output.\n",
            "    *   **Goal:** To predict an output for new, unseen inputs.\n",
            "    *   **Examples:**\n",
            "        *   **Classification:** Predicting a category (e.g., spam/not spam, disease/no disease, cat/dog).\n",
            "        *   **Regression:** Predicting a continuous value (e.g., house prices, stock prices, temperature).\n",
            "\n",
            "2.  **Unsupervised Learning:**\n",
            "    *   **Concept:** The algorithm learns from \"unlabeled\" data, meaning there are no pre-defined correct outputs. It tries to find hidden structures or patterns within the data itself.\n",
            "    *   **Goal:** To discover relationships, group similar items, or reduce data complexity.\n",
            "    *   **Examples:**\n",
            "        *   **Clustering:** Grouping similar data points together (e.g., customer segmentation, identifying different types of news articles).\n",
            "        *   **Dimensionality Reduction:** Simplifying data by reducing the number of variables while retaining important information.\n",
            "\n",
            "3.  **Reinforcement Learning:**\n",
            "    *   **Concept:** An \"agent\" learns to make decisions by performing actions in an environment and receiving rewards or penalties based on those actions. It learns through trial and error.\n",
            "    *   **Goal:** To learn an optimal strategy (policy) to maximize cumulative reward.\n",
            "    *   **Examples:** Game playing (e.g., AlphaGo), robotics, autonomous driving.\n",
            "\n",
            "### Why is Machine Learning Important?\n",
            "\n",
            "*   **Automation:** Automating tasks that are too complex or time-consuming for humans.\n",
            "*   **Insights:** Discovering hidden patterns and insights in vast amounts of data that would be impossible for humans to find.\n",
            "*   **Personalization:** Tailoring experiences to individual users (e.g., recommendation systems).\n",
            "*   **Adaptability:** Systems can adapt and improve over time as new data becomes available.\n",
            "*   **Problem Solving:** Solving complex problems in various fields like medicine, finance, and science.\n",
            "\n",
            "### Real-World Examples:\n",
            "\n",
            "*   **Recommendation Systems:** \"Customers who bought this also bought...\" (Amazon, Netflix, Spotify).\n",
            "*   **Spam Detection:** Filtering unwanted emails.\n",
            "*   **Fraud Detection:** Identifying suspicious financial transactions.\n",
            "*   **Facial Recognition:** Unlocking your phone, tagging friends in photos.\n",
            "*   **Natural Language Processing (NLP):** Language translation (Google Translate), chatbots, voice assistants (Siri, Alexa).\n",
            "*   **Medical Diagnosis:** Assisting doctors in identifying diseases from images (X-rays, MRIs).\n",
            "*   **Self-Driving Cars:** Perceiving the environment, making driving decisions.\n",
            "\n",
            "In essence, Machine Learning is about empowering computers to learn from experience, just like humans do, enabling them to perform tasks and make intelligent decisions without being explicitly told how to do every single step.\n"
          ]
        }
      ],
      "source": [
        "import os\n",
        "from langchain_google_genai import ChatGoogleGenerativeAI\n",
        "\n",
        "os.environ[\"GOOGLE_API_KEY\"] = \"your_api_key\"\n",
        "\n",
        "llm = ChatGoogleGenerativeAI(\n",
        "    model=\"gemini-2.5-flash\",\n",
        "    temperature=0,\n",
        ")\n",
        "\n",
        "response = llm.invoke(\"What is Machine Learning\")\n",
        "\n",
        "print(response.content)"
      ]
    },
    {
      "cell_type": "markdown",
      "id": "b19d721b-f890-4891-a29f-765d8d82ab6b",
      "metadata": {
        "id": "b19d721b-f890-4891-a29f-765d8d82ab6b"
      },
      "source": [
        "**Groq**"
      ]
    },
    {
      "cell_type": "code",
      "execution_count": null,
      "id": "2672a7e3-b060-4f15-a08e-ef1e9ea7afe5",
      "metadata": {
        "id": "2672a7e3-b060-4f15-a08e-ef1e9ea7afe5",
        "outputId": "0af3b6c6-7f36-446e-da80-65ac5b02de19"
      },
      "outputs": [
        {
          "name": "stdout",
          "output_type": "stream",
          "text": [
            "\n",
            "\u001b[1m[\u001b[0m\u001b[34;49mnotice\u001b[0m\u001b[1;39;49m]\u001b[0m\u001b[39;49m A new release of pip is available: \u001b[0m\u001b[31;49m25.1.1\u001b[0m\u001b[39;49m -> \u001b[0m\u001b[32;49m25.2\u001b[0m\n",
            "\u001b[1m[\u001b[0m\u001b[34;49mnotice\u001b[0m\u001b[1;39;49m]\u001b[0m\u001b[39;49m To update, run: \u001b[0m\u001b[32;49mpip install --upgrade pip\u001b[0m\n"
          ]
        }
      ],
      "source": [
        "!pip install -q -U langchain-groq"
      ]
    },
    {
      "cell_type": "code",
      "execution_count": null,
      "id": "eaa6e5fe-d771-4b91-9015-fb31abb32a83",
      "metadata": {
        "id": "eaa6e5fe-d771-4b91-9015-fb31abb32a83",
        "outputId": "ca412a36-8d9f-42f8-e9ca-f5292ce6b719"
      },
      "outputs": [
        {
          "name": "stdout",
          "output_type": "stream",
          "text": [
            "**Machine Learning (ML)** is a subset of Artificial Intelligence (AI) that involves the use of algorithms and statistical models to enable machines to learn from data, make decisions, and improve their performance over time, without being explicitly programmed.\n",
            "\n",
            "**Key Characteristics of Machine Learning:**\n",
            "\n",
            "1. **Learning from Data**: ML algorithms learn from data, rather than relying on explicit programming.\n",
            "2. **Improving Performance**: ML models improve their performance over time, as they receive more data and feedback.\n",
            "3. **Pattern Recognition**: ML algorithms recognize patterns in data, which enables them to make predictions, classify objects, and make decisions.\n",
            "4. **Autonomy**: ML systems can operate autonomously, making decisions and taking actions without human intervention.\n",
            "\n",
            "**Types of Machine Learning:**\n",
            "\n",
            "1. **Supervised Learning**: The algorithm learns from labeled data, where the correct output is already known.\n",
            "2. **Unsupervised Learning**: The algorithm learns from unlabeled data, and identifies patterns and relationships.\n",
            "3. **Semi-Supervised Learning**: The algorithm learns from a combination of labeled and unlabeled data.\n",
            "4. **Reinforcement Learning**: The algorithm learns through trial and error, by interacting with an environment and receiving feedback.\n",
            "\n",
            "**Applications of Machine Learning:**\n",
            "\n",
            "1. **Image Recognition**: ML is used in image recognition, object detection, and facial recognition.\n",
            "2. **Natural Language Processing (NLP)**: ML is used in language translation, text classification, and sentiment analysis.\n",
            "3. **Predictive Maintenance**: ML is used to predict equipment failures and schedule maintenance.\n",
            "4. **Recommendation Systems**: ML is used to recommend products, services, and content to users.\n",
            "\n",
            "**Machine Learning Workflow:**\n",
            "\n",
            "1. **Data Collection**: Gathering data from various sources.\n",
            "2. **Data Preprocessing**: Cleaning, transforming, and preparing data for use.\n",
            "3. **Model Selection**: Choosing a suitable ML algorithm and model.\n",
            "4. **Model Training**: Training the model using the prepared data.\n",
            "5. **Model Evaluation**: Evaluating the performance of the trained model.\n",
            "6. **Model Deployment**: Deploying the trained model in a production environment.\n",
            "\n",
            "**Common Machine Learning Algorithms:**\n",
            "\n",
            "1. **Linear Regression**: A linear model for predicting continuous outcomes.\n",
            "2. **Decision Trees**: A tree-based model for classification and regression tasks.\n",
            "3. **Random Forest**: An ensemble model that combines multiple decision trees.\n",
            "4. **Neural Networks**: A complex model inspired by the structure and function of the human brain.\n",
            "\n",
            "**Real-World Examples of Machine Learning:**\n",
            "\n",
            "1. **Virtual Assistants**: Siri, Google Assistant, and Alexa use ML to understand voice commands and respond accordingly.\n",
            "2. **Self-Driving Cars**: ML is used to detect objects, predict trajectories, and control the vehicle.\n",
            "3. **Personalized Recommendations**: Netflix, Amazon, and YouTube use ML to recommend content based on user behavior and preferences.\n",
            "4. **Medical Diagnosis**: ML is used to analyze medical images, diagnose diseases, and predict patient outcomes.\n"
          ]
        }
      ],
      "source": [
        "import os\n",
        "from langchain_groq import ChatGroq\n",
        "\n",
        "os.environ[\"GROQ_API_KEY\"] = \"your_api_key\"\n",
        "\n",
        "llm = ChatGroq(\n",
        "    model=\"llama-3.3-70b-versatile\",\n",
        "    temperature=0,\n",
        ")\n",
        "\n",
        "response = llm.invoke(\"What is Machine Learning\")\n",
        "\n",
        "print(response.content)"
      ]
    },
    {
      "cell_type": "markdown",
      "id": "66e4c388-6f0c-45af-8cbb-2241b8407272",
      "metadata": {
        "id": "66e4c388-6f0c-45af-8cbb-2241b8407272"
      },
      "source": [
        "**Ollama**"
      ]
    },
    {
      "cell_type": "code",
      "execution_count": null,
      "id": "07fbdcde-e8e0-4b1b-826e-e014b07456f3",
      "metadata": {
        "id": "07fbdcde-e8e0-4b1b-826e-e014b07456f3",
        "outputId": "05d29a6f-0647-4d50-8601-1ffbcb46986b"
      },
      "outputs": [
        {
          "name": "stdout",
          "output_type": "stream",
          "text": [
            "\n",
            "\u001b[1m[\u001b[0m\u001b[34;49mnotice\u001b[0m\u001b[1;39;49m]\u001b[0m\u001b[39;49m A new release of pip is available: \u001b[0m\u001b[31;49m25.1.1\u001b[0m\u001b[39;49m -> \u001b[0m\u001b[32;49m25.2\u001b[0m\n",
            "\u001b[1m[\u001b[0m\u001b[34;49mnotice\u001b[0m\u001b[1;39;49m]\u001b[0m\u001b[39;49m To update, run: \u001b[0m\u001b[32;49mpip install --upgrade pip\u001b[0m\n"
          ]
        }
      ],
      "source": [
        "!pip install -q -U langchain-ollama"
      ]
    },
    {
      "cell_type": "code",
      "execution_count": null,
      "id": "00658c6b-e49d-403f-872f-b4a76911402a",
      "metadata": {
        "id": "00658c6b-e49d-403f-872f-b4a76911402a",
        "outputId": "d8c521f1-2419-4da4-c618-6a187d019948"
      },
      "outputs": [
        {
          "name": "stdout",
          "output_type": "stream",
          "text": [
            "NAME         ID              SIZE      MODIFIED          \n",
            "gemma2:2b    8ccf136fdd52    1.6 GB    About an hour ago    \n"
          ]
        }
      ],
      "source": [
        "!ollama list"
      ]
    },
    {
      "cell_type": "code",
      "execution_count": null,
      "id": "ac0de84d-32f0-4542-8aa4-c916742f09ad",
      "metadata": {
        "id": "ac0de84d-32f0-4542-8aa4-c916742f09ad",
        "outputId": "4982cb6a-645e-4c85-d35e-9835357c12b1"
      },
      "outputs": [
        {
          "name": "stdout",
          "output_type": "stream",
          "text": [
            "Machine learning (ML) is a subfield of artificial intelligence (AI) that focuses on enabling computers to learn from data without being explicitly programmed. \n",
            "\n",
            "Here's a breakdown:\n",
            "\n",
            "**How it works:**\n",
            "\n",
            "* **Data:** ML algorithms are fed massive amounts of data, like images, text, or numbers.\n",
            "* **Patterns:** The algorithm analyzes this data and identifies patterns, relationships, and trends.\n",
            "* **Learning:**  Based on these patterns, the algorithm builds a model that can make predictions or decisions about new, unseen data.\n",
            "\n",
            "**Key Concepts:**\n",
            "\n",
            "* **Algorithms:** These are sets of instructions that guide the learning process. Different algorithms are suited for different tasks (e.g., linear regression for predicting values, decision trees for classification).\n",
            "* **Training Data:** The data used to teach the algorithm is called training data. It's crucial for the algorithm to learn effectively.\n",
            "* **Testing Data:**  After training, the algorithm is tested on unseen data to evaluate its performance and accuracy.\n",
            "\n",
            "**Types of Machine Learning:**\n",
            "\n",
            "* **Supervised learning:** The algorithm learns from labeled data (e.g., images with corresponding labels like \"cat\" or \"dog\"). It then uses this knowledge to predict labels for new, unlabeled data.\n",
            "* **Unsupervised learning:** The algorithm finds patterns and structures in unlabeled data (e.g., grouping customers based on their purchasing behavior). \n",
            "* **Reinforcement learning:** The algorithm learns by interacting with an environment and receiving rewards or penalties for its actions (e.g., training a robot to navigate a maze).\n",
            "\n",
            "**Applications:**\n",
            "\n",
            "Machine learning is used in countless applications, including:\n",
            "\n",
            "* **Image recognition:** Identifying objects in images (e.g., self-driving cars)\n",
            "* **Natural language processing:** Understanding and generating human language (e.g., chatbots)\n",
            "* **Recommendation systems:** Suggesting products or content based on user preferences (e.g., Netflix recommendations)\n",
            "* **Fraud detection:** Identifying suspicious transactions (e.g., banks)\n",
            "* **Medical diagnosis:** Assisting doctors in diagnosing diseases (e.g., analyzing medical images)\n",
            "\n",
            "**Benefits of Machine Learning:**\n",
            "\n",
            "* **Automation:** Automating tasks that would otherwise require human intervention.\n",
            "* **Improved accuracy:**  Machine learning algorithms can often outperform humans in specific tasks.\n",
            "* **Personalization:** Providing tailored experiences for users based on their preferences and behavior.\n",
            "\n",
            "\n",
            "**In short, machine learning is about teaching computers to learn from data and make better decisions.** It's revolutionizing many industries and transforming the way we interact with technology. \n",
            "\n"
          ]
        }
      ],
      "source": [
        "import os\n",
        "from langchain_ollama import ChatOllama\n",
        "\n",
        "llm = ChatOllama(\n",
        "    model=\"gemma2:2b\",\n",
        "    temperature=0,\n",
        ")\n",
        "\n",
        "response = llm.invoke(\"What is Machine Learning\")\n",
        "\n",
        "print(response.content)"
      ]
    },
    {
      "cell_type": "code",
      "execution_count": null,
      "id": "0c8f9efa-af20-4d46-8ea3-33d8ab53ed76",
      "metadata": {
        "id": "0c8f9efa-af20-4d46-8ea3-33d8ab53ed76"
      },
      "outputs": [],
      "source": []
    }
  ],
  "metadata": {
    "kernelspec": {
      "display_name": "Python 3 (ipykernel)",
      "language": "python",
      "name": "python3"
    },
    "language_info": {
      "codemirror_mode": {
        "name": "ipython",
        "version": 3
      },
      "file_extension": ".py",
      "mimetype": "text/x-python",
      "name": "python",
      "nbconvert_exporter": "python",
      "pygments_lexer": "ipython3",
      "version": "3.13.5"
    },
    "colab": {
      "provenance": []
    }
  },
  "nbformat": 4,
  "nbformat_minor": 5
}