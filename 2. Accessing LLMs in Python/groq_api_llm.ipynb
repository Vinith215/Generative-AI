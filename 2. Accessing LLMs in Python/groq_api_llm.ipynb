{
  "nbformat": 4,
  "nbformat_minor": 0,
  "metadata": {
    "colab": {
      "provenance": []
    },
    "kernelspec": {
      "name": "python3",
      "display_name": "Python 3"
    },
    "language_info": {
      "name": "python"
    }
  },
  "cells": [
    {
      "cell_type": "markdown",
      "source": [
        "**3.3. Accessing LLMs via Grpq API**"
      ],
      "metadata": {
        "id": "lPbpswsizEo9"
      }
    },
    {
      "cell_type": "code",
      "source": [
        "!pip install -q -U groq"
      ],
      "metadata": {
        "id": "ifPliSR92jly"
      },
      "execution_count": null,
      "outputs": []
    },
    {
      "cell_type": "code",
      "source": [
        "import os"
      ],
      "metadata": {
        "id": "W8FIV_IV34Ik"
      },
      "execution_count": null,
      "outputs": []
    },
    {
      "cell_type": "code",
      "source": [
        "os.environ[\"GROQ_API_KEY\"] = \"your_groq_api_key\""
      ],
      "metadata": {
        "id": "s5Kd4z8B4PwC"
      },
      "execution_count": null,
      "outputs": []
    },
    {
      "cell_type": "code",
      "source": [
        "from groq import Groq\n",
        "\n",
        "client = Groq()\n",
        "\n",
        "chat_completion = client.chat.completions.create(\n",
        "    model=\"llama-3.1-8b-instant\",\n",
        "    messages=[\n",
        "        {\"role\": \"system\", \"content\": \"You are a helpful assistant\"},\n",
        "        {\"role\": \"user\", \"content\": \"What is Deep Learning?\"}\n",
        "    ]\n",
        ")\n",
        "\n",
        "print(chat_completion.choices[0].message.content)"
      ],
      "metadata": {
        "colab": {
          "base_uri": "https://localhost:8080/"
        },
        "id": "h0dsV-_W4Zff",
        "outputId": "8771a43a-de1b-4b85-90b0-89216c39c4ec"
      },
      "execution_count": null,
      "outputs": [
        {
          "output_type": "stream",
          "name": "stdout",
          "text": [
            "Deep learning is a subfield of machine learning that involves the use of artificial neural networks (ANNs) to analyze and interpret data. These neural networks are composed of multiple layers, each consisting of interconnected nodes or \"neurons,\" which process and transmit information.\n",
            "\n",
            "The key characteristics of deep learning are:\n",
            "\n",
            "1. **Multilayer structure**: Deep learning models consist of multiple layers, with each layer building upon the previous one to extract increasingly complex features from the data.\n",
            "2. **Neural networks**: Deep learning models are based on the inspiration of the human brain's neural network, where neurons communicate with each other through weighted connections.\n",
            "3. **Learning from data**: Deep learning models are trained on large datasets, allowing them to learn patterns and relationships between the data and the desired output.\n",
            "4. **Automated feature extraction**: Deep learning models can automatically learn relevant features from raw data, eliminating the need for manual feature engineering.\n",
            "\n",
            "Some common applications of deep learning include:\n",
            "\n",
            "1. **Image recognition**: Deep learning models can recognize objects, faces, and scenes in images, with applications in fields like self-driving cars, surveillance systems, and augmented reality.\n",
            "2. **Speech recognition**: Deep learning models can understand spoken language, enabling applications like voice assistants, speech-to-text systems, and language translation.\n",
            "3. **Natural language processing (NLP)**: Deep learning models can analyze and generate human language, with applications in text summarization, sentiment analysis, and chatbots.\n",
            "4. **Predictive modeling**: Deep learning models can be used to predict outcomes in complex systems, such as disease diagnosis, stock prices, and weather forecasting.\n",
            "5. **Recommendation systems**: Deep learning models can analyze user behavior and recommend relevant items, such as products, movies, or music.\n",
            "\n",
            "Some popular deep learning techniques include:\n",
            "\n",
            "1. **Convolutional Neural Networks (CNNs)**: Designed for image and video recognition tasks.\n",
            "2. **Recurrent Neural Networks (RNNs)**: Suited for sequential data, such as speech recognition, language modeling, and time series prediction.\n",
            "3. **Long Short-Term Memory (LSTM)**: A type of RNN designed to handle long-term dependencies in sequential data.\n",
            "4. **Generative Adversarial Networks (GANs)**: For generating new data samples that mimic the patterns of existing data.\n",
            "\n",
            "Deep learning has many benefits, such as:\n",
            "\n",
            "1. **Improved accuracy**: Deep learning models can achieve state-of-the-art accuracy in many tasks.\n",
            "2. **Automatic feature extraction**: Deep learning models can automatically discover relevant features from data.\n",
            "3. **Flexibility**: Deep learning models can be applied to a wide range of tasks and domains.\n",
            "\n",
            "However, deep learning also presents several challenges:\n",
            "\n",
            "1. **Training time**: Training deep learning models can be computationally expensive and time-consuming.\n",
            "2. **Data requirements**: Deep learning models require large amounts of high-quality data to train effectively.\n",
            "3. **Interpretability**: Deep learning models can be difficult to interpret and understand, making it challenging to trust their results.\n"
          ]
        }
      ]
    },
    {
      "cell_type": "code",
      "source": [
        "from groq import Groq\n",
        "\n",
        "client = Groq()\n",
        "\n",
        "chat_completion = client.chat.completions.create(\n",
        "    model=\"llama-3.1-8b-instant\",\n",
        "    messages=[\n",
        "        {\"role\": \"system\", \"content\": \"You are a helpful assistant\"},\n",
        "        {\"role\": \"user\", \"content\": \"What is Deep Learning?\"},\n",
        "        {\"role\": \"assistant\", \"content\": \"Deep learning is a subfield of machine learning that involves the use of artificial neural networks (ANNs) to analyze and interpret data.\"},\n",
        "        {\"role\": \"user\", \"content\": \"Give some applications.\"}\n",
        "    ]\n",
        ")\n",
        "\n",
        "print(chat_completion.choices[0].message.content)"
      ],
      "metadata": {
        "colab": {
          "base_uri": "https://localhost:8080/"
        },
        "id": "PAPUqqUF5clb",
        "outputId": "816f8a57-7bae-4587-d5f2-7e38eab53bcc"
      },
      "execution_count": null,
      "outputs": [
        {
          "output_type": "stream",
          "name": "stdout",
          "text": [
            "Deep learning has numerous applications across various industries. Here are some examples:\n",
            "\n",
            "1. **Image Recognition**: Self-driving cars, facial recognition systems, medical image analysis, product recognition in e-commerce.\n",
            "2. **Natural Language Processing (NLP)**: Virtual assistants (e.g., Siri, Alexa), chatbots, language translation, text summarization, sentiment analysis.\n",
            "3. **Speech Recognition**: Dictation software, voice-controlled interfaces, speech synthesis.\n",
            "4. **Robotics**: Autonomous robots, robotic process automation, robot control systems.\n",
            "5. **Healthcare**: Medical diagnosis, disease detection, personalized medicine, medical imaging analysis.\n",
            "6. **Recommendation Systems**: Product recommendations in e-commerce, movie/TV show suggestions, music playlists.\n",
            "7. **Game Playing**: AI games like Go, Poker, Chess, and video games.\n",
            "8. **Security**: Intrusion detection, anomaly detection, biometric authentication.\n",
            "9. **Autonomous Systems**: Drones, self-driving cars, autonomous delivery systems.\n",
            "10. **Financial Analysis**: Stock market prediction, credit risk assessment, anti-money laundering detection.\n",
            "\n",
            "These applications are just a few examples of the countless ways deep learning is transforming industries and improving our lives.\n"
          ]
        }
      ]
    },
    {
      "cell_type": "code",
      "source": [],
      "metadata": {
        "id": "ZS_0ZZ8R5-N0"
      },
      "execution_count": null,
      "outputs": []
    }
  ]
}